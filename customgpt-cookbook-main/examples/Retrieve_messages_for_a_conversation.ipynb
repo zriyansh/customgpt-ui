{
  "cells": [
    {
      "cell_type": "markdown",
      "metadata": {
        "id": "PAWpaaSa1WLi"
      },
      "source": [
        "**Get all conversation messages**\n"
      ]
    },
    {
      "cell_type": "code",
      "execution_count": 2,
      "metadata": {
        "id": "Hc9SsdoR1WLm"
      },
      "outputs": [],
      "source": [
        "# setup API URL and API Token\n",
        "api_endpoint = 'https://app.customgpt.ai/api/v1/'\n",
        "api_token = 'ADD_YOUR_API_TOKEN_HERE'\n",
        "\n",
        "headers = {\n",
        "    'Content-type': 'application/json',\n",
        "    'Authorization': 'Bearer ' + api_token\n",
        "}\n",
        "# imports\n",
        "import requests\n",
        "import json"
      ]
    },
    {
      "cell_type": "markdown",
      "source": [
        "**Create a project for the account**"
      ],
      "metadata": {
        "id": "SDGeV1BbMTmS"
      }
    },
    {
      "cell_type": "code",
      "execution_count": 3,
      "metadata": {
        "id": "PNbGtm_A1WLp",
        "colab": {
          "base_uri": "https://localhost:8080/"
        },
        "outputId": "00d3c765-2cdc-4ca8-959a-5c7d1d8adb09"
      },
      "outputs": [
        {
          "output_type": "stream",
          "name": "stdout",
          "text": [
            "{\"data\":{\"id\":529,\"project_name\":\"Example ChatBot using Sitemap\",\"sitemap_path\":null,\"user_id\":35,\"is_chat_active\":null,\"created_at\":\"2023-06-25T17:00:30.000000Z\",\"updated_at\":\"2023-06-25T17:00:30.000000Z\",\"is_shared\":null,\"deleted_at\":null,\"type\":\"SITEMAP\"},\"status\":\"success\"}\n"
          ]
        }
      ],
      "source": [
        "# Give a name to your project\n",
        "project_name = 'Example ChatBot using Sitemap'\n",
        "sitemap_path = 'https://adorosario.github.io/small-sitemap.xml'\n",
        "\n",
        "payload = json.dumps({\n",
        "    \"project_name\": project_name,\n",
        "    \"sitemap_path\": sitemap_path\n",
        "})\n",
        "\n",
        "url = api_endpoint + 'projects'\n",
        "\n",
        "create_project = requests.request('POST', url, headers=headers, data=payload)\n",
        "print(create_project.text)"
      ]
    },
    {
      "cell_type": "markdown",
      "source": [
        "**Create Project Conversation**\n"
      ],
      "metadata": {
        "id": "3f0Raa_UOquJ"
      }
    },
    {
      "cell_type": "code",
      "source": [
        "data = json.loads(create_project.text)[\"data\"]\n",
        "project_id = data[\"id\"]\n",
        "# Get the project settings\n",
        "name = 'Test Converasation'\n",
        "\n",
        "payload = json.dumps({\n",
        "    \"name\": project_name\n",
        "})\n",
        "\n",
        "url = api_endpoint + 'projects' + f\"/{project_id}\" + '/conversations'\n",
        "\n",
        "create_conversation = requests.request('POST', url, headers=headers, data=payload)\n",
        "print(create_conversation.text)"
      ],
      "metadata": {
        "id": "uoCUM2FdMR-V",
        "colab": {
          "base_uri": "https://localhost:8080/"
        },
        "outputId": "e0f18c9b-2433-4513-d4bd-5b59b5797256"
      },
      "execution_count": 4,
      "outputs": [
        {
          "output_type": "stream",
          "name": "stdout",
          "text": [
            "{\"data\":{\"project_id\":529,\"name\":\"Example ChatBot using Sitemap\",\"created_by\":35,\"session_id\":\"1198da61-8412-4711-9cd5-4f288f58fc24\",\"updated_at\":\"2023-06-25T17:00:31.000000Z\",\"created_at\":\"2023-06-25T17:00:31.000000Z\",\"id\":219},\"status\":\"success\"}\n"
          ]
        }
      ]
    },
    {
      "cell_type": "markdown",
      "source": [
        "**Send message to conversation stream True**"
      ],
      "metadata": {
        "id": "_yGXSwRbP6qi"
      }
    },
    {
      "cell_type": "code",
      "execution_count": 5,
      "metadata": {
        "id": "-FXUfq-i1WLr",
        "colab": {
          "base_uri": "https://localhost:8080/"
        },
        "outputId": "0f2531d6-06fb-411c-e31c-102bbc7a93fb"
      },
      "outputs": [
        {
          "output_type": "stream",
          "name": "stdout",
          "text": [
            "Looking in indexes: https://pypi.org/simple, https://us-python.pkg.dev/colab-wheels/public/simple/\n",
            "Collecting sseclient-py\n",
            "  Downloading sseclient_py-1.7.2-py2.py3-none-any.whl (8.4 kB)\n",
            "Installing collected packages: sseclient-py\n",
            "Successfully installed sseclient-py-1.7.2\n"
          ]
        }
      ],
      "source": [
        "# for streaming response import SSE Client\n",
        "!pip install sseclient-py\n",
        "\n",
        "from sseclient import SSEClient"
      ]
    },
    {
      "cell_type": "code",
      "source": [
        "# Create a message to the above conversation\n",
        "conversation_data = json.loads(create_conversation.text)[\"data\"]\n",
        "\n",
        "# session_id is important to maintain chat history\n",
        "session_id = conversation_data[\"session_id\"]\n",
        "\n",
        "# pass in your question to prompt\n",
        "prompt = \"Who is Tom\"\n",
        "\n",
        "# set stream to 1 to get a streaming response\n",
        "stream = 1\n",
        "\n",
        "url = api_endpoint + 'projects/' + str(project_id) + '/conversations/' + str(session_id) + '/messages'\n",
        "payload = json.dumps({\n",
        "    \"prompt\": prompt,\n",
        "    \"stream\": stream\n",
        "})\n",
        "\n",
        "headers[\"Accept\"] = \"text/event-stream\"\n",
        "\n",
        "stream_response = requests.post(url, stream=True, headers=headers, data=payload)\n",
        "client = SSEClient(stream_response)\n",
        "for event in client.events():\n",
        "    print(event.data)"
      ],
      "metadata": {
        "id": "0xnMN8tQUQXj"
      },
      "execution_count": 6,
      "outputs": []
    },
    {
      "cell_type": "markdown",
      "source": [
        "**Send message to conversation stream False**"
      ],
      "metadata": {
        "id": "TSuIaZjbeUGu"
      }
    },
    {
      "cell_type": "code",
      "source": [
        "# Create a message to the above conversation\n",
        "conversation_data = json.loads(create_conversation.text)[\"data\"]\n",
        "\n",
        "# session_id is important to maintain chat history\n",
        "session_id = conversation_data[\"session_id\"]\n",
        "\n",
        "# pass in your question to prompt\n",
        "prompt = \"Who is Tom\"\n",
        "\n",
        "# set stream to 1 to get a streaming response\n",
        "stream = 0\n",
        "\n",
        "url = api_endpoint + 'projects/' + str(project_id) + '/conversations/' + str(session_id) + '/messages'\n",
        "payload = json.dumps({\n",
        "    \"prompt\": prompt,\n",
        "    \"stream\": stream\n",
        "})\n",
        "non_stream_response = requests.post(url, stream=False, headers=headers, data=payload)\n",
        "print(non_stream_response.text)"
      ],
      "metadata": {
        "colab": {
          "base_uri": "https://localhost:8080/"
        },
        "id": "Dcwzbnn1eaIX",
        "outputId": "07189549-324a-4fff-922e-dc316a568d18"
      },
      "execution_count": 9,
      "outputs": [
        {
          "output_type": "stream",
          "name": "stdout",
          "text": [
            "{\"data\":{\"id\":431,\"created_at\":\"2023-06-25T17:01:11.000000Z\",\"updated_at\":\"2023-06-25T17:01:11.000000Z\",\"user_id\":35,\"user_query\":\"Who is Tom\",\"openai_response\":\"Tom Brady is a quarterback who played for Tampa Bay. He has recently announced his retirement.\",\"citations\":[\"12061.0\",\"12055.0\",\"12054.0\",\"12062.0\",\"12057.0\"]},\"status\":\"success\"}\n"
          ]
        }
      ]
    },
    {
      "cell_type": "markdown",
      "source": [
        "**Get all messages from conversation**"
      ],
      "metadata": {
        "id": "JA6xFl9mfeJl"
      }
    },
    {
      "cell_type": "code",
      "source": [
        "url = api_endpoint + 'projects/' + str(project_id) + '/conversations/' + str(session_id) + '/messages'\n",
        "\n",
        "project_messages = requests.request('GET', url, headers=headers)\n",
        "print(project_messages.text)"
      ],
      "metadata": {
        "colab": {
          "base_uri": "https://localhost:8080/"
        },
        "id": "tN5JPHbkfd1F",
        "outputId": "ec3101dc-ca0c-4d90-923d-6b77588504dd"
      },
      "execution_count": 10,
      "outputs": [
        {
          "output_type": "stream",
          "name": "stdout",
          "text": [
            "{\"data\":{\"conversation\":{\"id\":219,\"created_at\":\"2023-06-25T17:00:31.000000Z\",\"updated_at\":\"2023-06-25T17:00:31.000000Z\",\"session_id\":\"1198da61-8412-4711-9cd5-4f288f58fc24\",\"project_id\":529,\"created_by\":35,\"name\":\"Example ChatBot using Sitemap\"},\"messages\":{\"current_page\":1,\"data\":[{\"id\":431,\"created_at\":\"25 Jun 2023 05:01:11\",\"updated_at\":\"25 Jun 2023 05:01:11\",\"user_id\":35,\"user_query\":\"Who is Tom\",\"openai_response\":\"Tom Brady is a quarterback who played for Tampa Bay. He has recently announced his retirement.\",\"citations\":[\"12061.0\",\"12055.0\",\"12054.0\",\"12062.0\",\"12057.0\"]}],\"first_page_url\":\"https:\\/\\/dev.customgpt.ai\\/api\\/v1\\/projects\\/529\\/conversations\\/1198da61-8412-4711-9cd5-4f288f58fc24\\/messages?page=1\",\"from\":1,\"last_page\":1,\"last_page_url\":\"https:\\/\\/dev.customgpt.ai\\/api\\/v1\\/projects\\/529\\/conversations\\/1198da61-8412-4711-9cd5-4f288f58fc24\\/messages?page=1\",\"next_page_url\":null,\"path\":\"https:\\/\\/dev.customgpt.ai\\/api\\/v1\\/projects\\/529\\/conversations\\/1198da61-8412-4711-9cd5-4f288f58fc24\\/messages\",\"per_page\":20,\"prev_page_url\":null,\"to\":1,\"total\":1}},\"status\":\"success\"}\n"
          ]
        }
      ]
    }
  ],
  "metadata": {
    "kernelspec": {
      "display_name": "Python 3",
      "language": "python",
      "name": "python3"
    },
    "language_info": {
      "codemirror_mode": {
        "name": "ipython",
        "version": 3
      },
      "file_extension": ".py",
      "mimetype": "text/x-python",
      "name": "python",
      "nbconvert_exporter": "python",
      "pygments_lexer": "ipython3",
      "version": "3.11.2"
    },
    "orig_nbformat": 4,
    "colab": {
      "provenance": []
    }
  },
  "nbformat": 4,
  "nbformat_minor": 0
}

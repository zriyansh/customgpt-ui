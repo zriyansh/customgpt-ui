{
  "cells": [
    {
      "cell_type": "code",
      "source": [
        "!pip install customgpt-client"
      ],
      "metadata": {
        "id": "cMS4FTgtE0s1"
      },
      "execution_count": null,
      "outputs": []
    },
    {
      "cell_type": "markdown",
      "metadata": {
        "id": "PAWpaaSa1WLi"
      },
      "source": [
        "**Initialize Client**\n"
      ]
    },
    {
      "cell_type": "code",
      "execution_count": null,
      "metadata": {
        "id": "Hc9SsdoR1WLm"
      },
      "outputs": [],
      "source": [
        "from customgpt_client import CustomGPT\n",
        "CustomGPT.api_key = \"YOUR_API_TOKEN\""
      ]
    },
    {
      "cell_type": "markdown",
      "metadata": {
        "id": "Z1ISHsxb1WLo"
      },
      "source": [
        "**Create a project**\n"
      ]
    },
    {
      "cell_type": "code",
      "execution_count": null,
      "metadata": {
        "id": "PNbGtm_A1WLp"
      },
      "outputs": [],
      "source": [
        "# Give a name to your project\n",
        "project_name = 'Example ChatBot using Sitemap'\n",
        "sitemap_path = 'https://adorosario.github.io/small-sitemap.xml'\n",
        "\n",
        "create_project = CustomGPT.Project.create(project_name=project_name, sitemap_path=sitemap_path)\n",
        "print(create_project)"
      ]
    },
    {
      "cell_type": "markdown",
      "source": [
        "**Create a conversation**"
      ],
      "metadata": {
        "id": "43a91gPXiOou"
      }
    },
    {
      "cell_type": "code",
      "execution_count": null,
      "metadata": {
        "id": "D1La0GFc1WLq"
      },
      "outputs": [],
      "source": [
        "# Check status of the project if chat bot is active\n",
        "data = create_project.parsed.data\n",
        "\n",
        "# Get project id from response for created project\n",
        "project_id = data.id\n",
        "# Create conversation\n",
        "create_conversation = CustomGPT.Conversation.create(project_id=project_id, name='Test')\n",
        "print(create_conversation)"
      ]
    },
    {
      "cell_type": "markdown",
      "source": [
        "**Send message to conversation**"
      ],
      "metadata": {
        "id": "3lWDBvw-wuzL"
      }
    },
    {
      "cell_type": "code",
      "source": [
        "session_id = create_conversation.parsed.data.session_id\n",
        "# Create a message to the above conversation\n",
        "\n",
        "# pass in your question to prompt\n",
        "prompt = \"Who is Tom Bradyin 10 words\"\n",
        "\n",
        "stream_response = CustomGPT.Conversation.send(project_id=project_id, session_id=session_id, prompt=prompt, stream=False)\n",
        "print(stream_response)\n"
      ],
      "metadata": {
        "id": "JULBvcaGw4uN"
      },
      "execution_count": null,
      "outputs": []
    },
    {
      "cell_type": "markdown",
      "source": [
        "**Retrieve messages**"
      ],
      "metadata": {
        "id": "Do654B7CxTo_"
      }
    },
    {
      "cell_type": "code",
      "source": [
        "messages = CustomGPT.Conversation.messages(project_id=project_id, session_id=session_id)\n",
        "print(messages)"
      ],
      "metadata": {
        "id": "rOECvvyDxWZ_"
      },
      "execution_count": null,
      "outputs": []
    }
  ],
  "metadata": {
    "kernelspec": {
      "display_name": "Python 3",
      "language": "python",
      "name": "python3"
    },
    "language_info": {
      "codemirror_mode": {
        "name": "ipython",
        "version": 3
      },
      "file_extension": ".py",
      "mimetype": "text/x-python",
      "name": "python",
      "nbconvert_exporter": "python",
      "pygments_lexer": "ipython3",
      "version": "3.11.2"
    },
    "orig_nbformat": 4,
    "colab": {
      "provenance": []
    }
  },
  "nbformat": 4,
  "nbformat_minor": 0
}
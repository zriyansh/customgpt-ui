{
  "cells": [
    {
      "cell_type": "markdown",
      "metadata": {
        "id": "PAWpaaSa1WLi"
      },
      "source": [
        "**List all pages of a project**\n"
      ]
    },
    {
      "cell_type": "code",
      "execution_count": 1,
      "metadata": {
        "id": "Hc9SsdoR1WLm"
      },
      "outputs": [],
      "source": [
        "# setup API URL and API Token\n",
        "api_endpoint = 'https://app.customgpt.ai/api/v1/'\n",
        "api_token = 'ADD_YOUR_API_TOKEN_HERE'\n",
        "\n",
        "headers = {\n",
        "    'Content-type': 'application/json',\n",
        "    'Authorization': 'Bearer ' + api_token\n",
        "}\n",
        "# imports\n",
        "import requests\n",
        "import json"
      ]
    },
    {
      "cell_type": "markdown",
      "source": [
        "**Create a project for the account**"
      ],
      "metadata": {
        "id": "SDGeV1BbMTmS"
      }
    },
    {
      "cell_type": "code",
      "execution_count": 2,
      "metadata": {
        "id": "PNbGtm_A1WLp",
        "colab": {
          "base_uri": "https://localhost:8080/"
        },
        "outputId": "f22a71ad-d492-4857-fcf5-a73c55677434"
      },
      "outputs": [
        {
          "output_type": "stream",
          "name": "stdout",
          "text": [
            "{\"data\":{\"id\":510,\"project_name\":\"Example ChatBot using Sitemap\",\"sitemap_path\":null,\"user_id\":35,\"is_chat_active\":null,\"created_at\":\"2023-06-24T21:21:45.000000Z\",\"updated_at\":\"2023-06-24T21:21:45.000000Z\",\"is_shared\":null,\"deleted_at\":null,\"type\":\"SITEMAP\"},\"status\":\"success\"}\n"
          ]
        }
      ],
      "source": [
        "# Give a name to your project\n",
        "project_name = 'Example ChatBot using Sitemap'\n",
        "sitemap_path = 'https://adorosario.github.io/small-sitemap.xml'\n",
        "\n",
        "payload = json.dumps({\n",
        "    \"project_name\": project_name,\n",
        "    \"sitemap_path\": sitemap_path\n",
        "})\n",
        "\n",
        "url = api_endpoint + 'projects'\n",
        "\n",
        "create_project = requests.request('POST', url, headers=headers, data=payload)\n",
        "print(create_project.text)"
      ]
    },
    {
      "cell_type": "markdown",
      "source": [
        "**Get Project Pages**\n"
      ],
      "metadata": {
        "id": "3f0Raa_UOquJ"
      }
    },
    {
      "cell_type": "code",
      "source": [
        "data = json.loads(create_project.text)[\"data\"]\n",
        "project_id = data[\"id\"]\n",
        "# Update the project\n",
        "url = api_endpoint + 'projects' + f\"/{project_id}\" + '/pages'\n",
        "\n",
        "project_pages = requests.request('GET', url, headers=headers)\n",
        "print(project_pages.text)"
      ],
      "metadata": {
        "id": "uoCUM2FdMR-V",
        "colab": {
          "base_uri": "https://localhost:8080/"
        },
        "outputId": "4884bac1-2e46-44d4-a861-fa25cbf7592d"
      },
      "execution_count": 3,
      "outputs": [
        {
          "output_type": "stream",
          "name": "stdout",
          "text": [
            "{\"data\":{\"project\":{\"id\":510,\"project_name\":\"Example ChatBot using Sitemap\",\"sitemap_path\":null,\"user_id\":35,\"is_chat_active\":0,\"created_at\":\"2023-06-24T21:21:45.000000Z\",\"updated_at\":\"2023-06-24T21:21:45.000000Z\",\"is_shared\":0,\"deleted_at\":null,\"type\":\"SITEMAP\"},\"pages\":{\"current_page\":1,\"data\":[{\"id\":11873,\"page_url\":\"https:\\/\\/apnews.com\\/article\\/tom-brady-tampa-bay-buccaneers-new-england-patriots-indianapolis-colts-denver-broncos-64c660906bfdd828c9cf69e94cfefcb7\",\"page_url_hash\":\"c63e5fb2e92bd5345c91f8d50b5b3736\",\"created_at\":\"2023-06-24T21:21:46.000000Z\",\"updated_at\":\"2023-06-24 21:21:46\",\"crawl_status\":\"queued\",\"index_status\":\"queued\",\"is_file\":false},{\"id\":11872,\"page_url\":\"https:\\/\\/apnews.com\\/article\\/tom-brady-retirement-a53ee71d6ab99276fd0765052c0dd7aa\",\"page_url_hash\":\"13d0ae8867ab1f7177464f48efaf28e2\",\"created_at\":\"2023-06-24T21:21:46.000000Z\",\"updated_at\":\"2023-06-24 21:21:46\",\"crawl_status\":\"queued\",\"index_status\":\"queued\",\"is_file\":false},{\"id\":11871,\"page_url\":\"https:\\/\\/apnews.com\\/article\\/tom-brady-announces-retirement-3ac2e55d0880672d330e8ff3d4318367\",\"page_url_hash\":\"fda42c4a04c24e0b00d4e39a597a782a\",\"created_at\":\"2023-06-24T21:21:46.000000Z\",\"updated_at\":\"2023-06-24 21:21:46\",\"crawl_status\":\"queued\",\"index_status\":\"queued\",\"is_file\":false},{\"id\":11870,\"page_url\":\"https:\\/\\/apnews.com\\/article\\/nfl-sports-entertainment-tom-brady-florida-60b97f2aaf51b83f0e76c7d07e7dc2cd\",\"page_url_hash\":\"388de9a2a5d51623ad69de0084ec4ee4\",\"created_at\":\"2023-06-24T21:21:46.000000Z\",\"updated_at\":\"2023-06-24 21:21:46\",\"crawl_status\":\"queued\",\"index_status\":\"queued\",\"is_file\":false},{\"id\":11869,\"page_url\":\"https:\\/\\/americanfootball.fandom.com\\/wiki\\/tom_brady\",\"page_url_hash\":\"ea128fabb583550dc26f539cd4ba6718\",\"created_at\":\"2023-06-24T21:21:46.000000Z\",\"updated_at\":\"2023-06-24 21:21:46\",\"crawl_status\":\"queued\",\"index_status\":\"queued\",\"is_file\":false},{\"id\":11868,\"page_url\":\"https:\\/\\/alexaanswers.amazon.com\\/question\\/2zmobid9uhszpzjea8060k\",\"page_url_hash\":\"72b248ec584f6e5efdb08a92c83f8074\",\"created_at\":\"2023-06-24T21:21:46.000000Z\",\"updated_at\":\"2023-06-24 21:21:46\",\"crawl_status\":\"queued\",\"index_status\":\"queued\",\"is_file\":false},{\"id\":11867,\"page_url\":\"https:\\/\\/abcnews.go.com\\/us\\/tom-brady-announces-retirement\\/story?id=96815178\",\"page_url_hash\":\"5a9027d19891a4f08358a2e7100ed6d5\",\"created_at\":\"2023-06-24T21:21:46.000000Z\",\"updated_at\":\"2023-06-24 21:21:46\",\"crawl_status\":\"queued\",\"index_status\":\"queued\",\"is_file\":false},{\"id\":11866,\"page_url\":\"https:\\/\\/985thesportshub.com\\/listicle\\/tom-brady-retiring-from-football-after-22-seasons-7-super-bowl-titles\\/\",\"page_url_hash\":\"ced794a09f3d91825453d9d141e75794\",\"created_at\":\"2023-06-24T21:21:46.000000Z\",\"updated_at\":\"2023-06-24 21:21:46\",\"crawl_status\":\"queued\",\"index_status\":\"queued\",\"is_file\":false},{\"id\":11865,\"page_url\":\"https:\\/\\/247sports.com\\/player\\/tom-brady-76179\\/\",\"page_url_hash\":\"b18a144a7b5de4a94cc57c64346ccf2f\",\"created_at\":\"2023-06-24T21:21:46.000000Z\",\"updated_at\":\"2023-06-24 21:21:46\",\"crawl_status\":\"queued\",\"index_status\":\"queued\",\"is_file\":false},{\"id\":11864,\"page_url\":\"https:\\/\\/1033thegoat.com\\/tom-brady-has-won-more-super-bowls-than-these-18-teams-combined\\/\",\"page_url_hash\":\"4d05356e44f08caf9bda3a7667d4f1aa\",\"created_at\":\"2023-06-24T21:21:46.000000Z\",\"updated_at\":\"2023-06-24 21:21:46\",\"crawl_status\":\"queued\",\"index_status\":\"queued\",\"is_file\":false}],\"first_page_url\":\"https:\\/\\/dev.customgpt.ai\\/api\\/v1\\/projects\\/510\\/pages?page=1\",\"from\":1,\"last_page\":1,\"last_page_url\":\"https:\\/\\/dev.customgpt.ai\\/api\\/v1\\/projects\\/510\\/pages?page=1\",\"next_page_url\":null,\"path\":\"https:\\/\\/dev.customgpt.ai\\/api\\/v1\\/projects\\/510\\/pages\",\"per_page\":20,\"prev_page_url\":null,\"to\":10,\"total\":10}},\"status\":\"success\"}\n"
          ]
        }
      ]
    }
  ],
  "metadata": {
    "kernelspec": {
      "display_name": "Python 3",
      "language": "python",
      "name": "python3"
    },
    "language_info": {
      "codemirror_mode": {
        "name": "ipython",
        "version": 3
      },
      "file_extension": ".py",
      "mimetype": "text/x-python",
      "name": "python",
      "nbconvert_exporter": "python",
      "pygments_lexer": "ipython3",
      "version": "3.11.2"
    },
    "orig_nbformat": 4,
    "colab": {
      "provenance": []
    }
  },
  "nbformat": 4,
  "nbformat_minor": 0
}
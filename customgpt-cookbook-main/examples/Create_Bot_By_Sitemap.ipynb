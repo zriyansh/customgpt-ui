{
 "cells": [
  {
   "attachments": {},
   "cell_type": "markdown",
   "metadata": {},
   "source": [
    "**Create your custom chat bot using a sitemap.**"
   ]
  },
  {
   "cell_type": "code",
   "execution_count": 3,
   "metadata": {},
   "outputs": [],
   "source": [
    "# setup API URL and API Token\n",
    "api_endpoint = 'https://app.customgpt.ai/api/v1/'\n",
    "api_token = 'ADD_YOUR_API_TOKEN_HERE'\n",
    "headers = {\n",
    "    'Content-Type': 'application/json',\n",
    "    'Authorization': 'Bearer ' + api_token\n",
    "}\n",
    "\n",
    "# imports\n",
    "import requests\n",
    "import json"
   ]
  },
  {
   "attachments": {},
   "cell_type": "markdown",
   "metadata": {},
   "source": [
    "**An example for to create a project with a sitemap**"
   ]
  },
  {
   "cell_type": "code",
   "execution_count": null,
   "metadata": {},
   "outputs": [],
   "source": [
    "# Give a name to your project\n",
    "project_name = 'Example ChatBot using Sitemap'\n",
    "sitemap_path = 'https://adorosario.github.io/small-sitemap.xml'\n",
    "\n",
    "payload = json.dumps({\n",
    "    \"project_name\": project_name,\n",
    "    \"sitemap_path\": sitemap_path\n",
    "})\n",
    "\n",
    "url = api_endpoint + 'projects'\n",
    "\n",
    "create_project = requests.request('POST', url, headers=headers, data=payload)\n",
    "print(create_project.text)"
   ]
  },
  {
   "cell_type": "code",
   "execution_count": null,
   "metadata": {},
   "outputs": [],
   "source": [
    "# Check status of the project if chat bot is active\n",
    "data = json.loads(create_project.text)[\"data\"]\n",
    "\n",
    "# Get project id from response for created project\n",
    "project_id = data[\"id\"]\n",
    "\n",
    "# Check if chat bot is active using `is_chat_active` flag in project detail response\n",
    "# GET project details\n",
    "url = api_endpoint + 'projects/' + str(project_id)\n",
    "\n",
    "get_project = requests.request('GET', url, headers=headers)\n",
    "project_data = json.loads(get_project.text)[\"data\"]\n",
    "is_chat_active = project_data[\"is_chat_active\"]\n",
    "\n",
    "print(is_chat_active)\n",
    "\n",
    "# One can poll this GET project details API to check if chat bot is active before starting a conversation\n"
   ]
  },
  {
   "cell_type": "code",
   "execution_count": null,
   "metadata": {},
   "outputs": [],
   "source": [
    "# Create a conversation before sending a message to the chat bot\n",
    "url = api_endpoint + 'projects/' + str(project_id) + '/conversations'\n",
    "\n",
    "payload = json.dumps({\n",
    "    \"name\": \"My First Conversation\"\n",
    "})\n",
    "\n",
    "create_conversation = requests.request(\"POST\", url, headers=headers, data=payload)\n",
    "print(create_conversation.text)"
   ]
  },
  {
   "cell_type": "code",
   "execution_count": null,
   "metadata": {},
   "outputs": [],
   "source": [
    "# for streaming response import SSE Client\n",
    "!pip install sseclient-py\n",
    "\n",
    "from sseclient import SSEClient"
   ]
  },
  {
   "cell_type": "code",
   "execution_count": null,
   "metadata": {},
   "outputs": [],
   "source": [
    "# Create a message to the above conversation\n",
    "conversation_data = json.loads(create_conversation.text)[\"data\"]\n",
    "\n",
    "# session_id is important to maintain chat history\n",
    "session_id = conversation_data[\"session_id\"]\n",
    "\n",
    "# pass in your question to prompt\n",
    "prompt = \"Who is Tom Brady\"\n",
    "\n",
    "# set stream to 1 to get a streaming response\n",
    "stream = 1\n",
    "\n",
    "url = api_endpoint + 'projects/' + str(project_id) + '/conversations/' + str(session_id) + '/messages'\n",
    "payload = json.dumps({\n",
    "    \"prompt\": prompt,\n",
    "    \"stream\": stream\n",
    "})\n",
    "\n",
    "headers[\"Accept\"] = \"text/event-stream\"\n",
    "\n",
    "stream_response = requests.post(url, stream=True, headers=headers, data=payload)\n",
    "client = SSEClient(stream_response)\n",
    "for event in client.events():\n",
    "    print(event.data)"
   ]
  }
 ],
 "metadata": {
  "kernelspec": {
   "display_name": "Python 3",
   "language": "python",
   "name": "python3"
  },
  "language_info": {
   "codemirror_mode": {
    "name": "ipython",
    "version": 3
   },
   "file_extension": ".py",
   "mimetype": "text/x-python",
   "name": "python",
   "nbconvert_exporter": "python",
   "pygments_lexer": "ipython3",
   "version": "3.11.2"
  },
  "orig_nbformat": 4
 },
 "nbformat": 4,
 "nbformat_minor": 2
}
